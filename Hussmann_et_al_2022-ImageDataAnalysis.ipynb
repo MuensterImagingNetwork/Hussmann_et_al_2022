{
 "cells": [
  {
   "cell_type": "markdown",
   "id": "385607d5",
   "metadata": {},
   "source": [
    "### Hussmann_et_al_2022"
   ]
  },
  {
   "cell_type": "markdown",
   "id": "3ab04f32",
   "metadata": {},
   "source": [
    "This notebook analyses tracking files derived from the \"Fiji Manual\" plugin, and produces plots that are displayed in the manuscript."
   ]
  },
  {
   "cell_type": "markdown",
   "id": "ad68f834",
   "metadata": {},
   "source": [
    "### Imports and Functions"
   ]
  },
  {
   "cell_type": "code",
   "execution_count": null,
   "id": "92e039b5",
   "metadata": {},
   "outputs": [],
   "source": [
    "# Imports\n",
    "import pandas as pd\n",
    "import seaborn as sns\n",
    "import matplotlib.pyplot as plt\n",
    "import numpy as np\n",
    "import os\n",
    "import warnings\n",
    "warnings.filterwarnings('ignore')\n",
    "\n",
    "# Graphic Settings\n",
    "sns.set_palette(\"Set1\", 8, .75)\n",
    "sns.set_theme(style=\"whitegrid\")\n",
    "plt.tight_layout()\n",
    "\n",
    "# Used functions\n",
    "\n",
    "def calculate_distance(df):\n",
    "    \"\"\"Calculates distance between consecutive tracking points and returns the distance in microns.\"\"\"\n",
    "    \n",
    "    diff_x = df.X.diff()\n",
    "    diff_y = df.Y.diff()\n",
    "    dist = np.sqrt((diff_x*diff_x) + (diff_y*diff_y))\n",
    "    dist = dist*df.Pixelsize_micron\n",
    "    \n",
    "    return dist\n",
    "\n",
    "\n",
    "def calculate_velocity(df):\n",
    "    \"\"\"Calculates cell velocity.\"\"\"\n",
    "    \n",
    "    vel = df.Distance/df.Timeinterval_min\n",
    "    \n",
    "    return vel\n",
    "\n",
    "\n",
    "def calculate_centered(df):\n",
    "    \"\"\"Creates a track with a centered (0,0) start point.\"\"\"\n",
    "    \n",
    "    df[\"X_centered\"] = -1\n",
    "    df[\"Y_centered\"] = -1\n",
    "    for i in df.Track_ID.unique():\n",
    "    #print(i)\n",
    "    #print(df.Track == i)\n",
    "        df.X_centered[df.Track_ID == i] = df[df.Track_ID == i].iloc[:, 2] - df[df.Track_ID == i].iloc[0, 2]\n",
    "        df.Y_centered[df.Track_ID == i] = (df[df.Track_ID == i].iloc[:, 3] - df[df.Track_ID == i].iloc[0, 3])*-1\n",
    "        \n",
    "    return df\n",
    "\n",
    "\n",
    "def make_summary_df(df):\n",
    "    \"\"\"Creates a summary of all measurements.\"\"\"\n",
    "    \n",
    "    df_summary = pd.DataFrame()\n",
    "    df_summary[\"Track_ID\"] = df.groupby([\"Track_ID\"]).mean().index\n",
    "    df_summary = df_summary.set_index(\"Track_ID\")\n",
    "    df_summary[\"Mean_velocity_per_track\"] = df.groupby([\"Track_ID\"]).mean().Velocity\n",
    "    df_summary[\"Median_velocity_per_track\"] = df.groupby(\"Track_ID\").median().Velocity\n",
    "    df_summary[\"Total_distance_per_track\"] = df.groupby(\"Track_ID\").sum().Distance\n",
    "    df_summary[\"Y_migration_distance_per_track\"] = df.groupby([\"Track_ID\"]).Y_centered.apply(lambda y: y.tail(1).values[-1]*df.groupby([\"Track_ID\"]).Pixelsize_micron.mean().values[-1])\n",
    "    df_summary[\"Phenotype\"] = df.groupby(\"Track_ID\").Phenotype.apply(lambda pheno: pheno.unique()[0])\n",
    "    \n",
    "    return df_summary\n",
    "\n",
    "\n",
    "def plot_general(df_summary, save_directory=\"\\\\\", save=False):\n",
    "    \"\"\"Plots measurements as violinplots.\"\"\"\n",
    "    \n",
    "    for i in range(len(df_summary.columns)-1):\n",
    "        #print(i)\n",
    "        fig = plt.figure(figsize=(8,5))\n",
    "        ax = fig.add_subplot(111)\n",
    "        ax = sns.violinplot(y=df_summary.iloc[:,i], x=df_summary.Phenotype, data=df_summary, hue=df_summary.Phenotype, width=0.7, dodge=False)\n",
    "        handles, labels = ax.get_legend_handles_labels()\n",
    "        \n",
    "        lgd = ax.legend(bbox_to_anchor=(1.02, 1), loc='upper left', borderaxespad=0)\n",
    "        ax.set_title(df_summary.columns[i])\n",
    "        if save: \n",
    "            fig.savefig(save_directory + \"\\\\\" + df_summary.columns[i] + \".svg\", dpi=300, format=\"svg\",  bbox_inches='tight')\n",
    "            \n",
    "        fig.show()\n",
    "    if save:\n",
    "        print(\"Your data hase been saved to:\", save_directory)\n",
    "            "
   ]
  },
  {
   "cell_type": "markdown",
   "id": "f816f93f",
   "metadata": {},
   "source": [
    "### Open individual .csv files"
   ]
  },
  {
   "cell_type": "code",
   "execution_count": null,
   "id": "863e35e7",
   "metadata": {},
   "outputs": [],
   "source": [
    "#Type in your directories here:\n",
    "directory = #Insert directory here\n",
    "save_directory = #Insert saving directory here"
   ]
  },
  {
   "cell_type": "code",
   "execution_count": null,
   "id": "e0efaa33",
   "metadata": {},
   "outputs": [],
   "source": [
    "#TO DO: Add example data to GitHub, incl. Metadata.xlsx\n",
    "\n",
    "files = []\n",
    "for filename in os.listdir(directory):\n",
    "    if filename.endswith(\".csv\"): \n",
    "        files.append(os.path.join(directory, filename))\n",
    "\n",
    "print(\"You will open the tracking results from\", len(files)-1, \" movies.\")\n",
    "    \n",
    "metadata = pd.read_excel(directory + \"\\Metadata.xlsx\")\n",
    "print(\"Your metadatafile contains:\", metadata.shape[0], \"movies.\")\n",
    "\n",
    "if len(files) != metadata.shape[0]:\n",
    "    print(\"Your metadatafile does not contain all movies!\")"
   ]
  },
  {
   "cell_type": "markdown",
   "id": "43c116ec",
   "metadata": {},
   "source": [
    "### Start Analysis"
   ]
  },
  {
   "cell_type": "code",
   "execution_count": null,
   "id": "66cd857c",
   "metadata": {},
   "outputs": [],
   "source": [
    "df = pd.DataFrame(columns=['Track n', 'Slice n', 'X', 'Y', 'Distance', 'Velocity', 'Pixel Value',\n",
    "       'Filename', 'Movie_ID', 'Pixelsize_micron', 'Timeinterval_min',\n",
    "       'Phenotype'])\n",
    "\n",
    "for i in files:\n",
    "    if i.endswith(\"Metadata.csv\") == False:\n",
    "        #print(i)\n",
    "        df1 = pd.read_csv(i, delimiter=\",\",encoding_errors=\"ignore\")\n",
    "        df1[\"Filename\"] = i.split('\\\\')[-1]\n",
    "        df1 = df1.merge(metadata, how=\"inner\", left_on=\"Filename\", right_on=\"Filename\")\n",
    "        meta = metadata[metadata[\"Filename\"] == i.split('\\\\')[-1]]\n",
    "        movie_id = meta.Movie_ID.values[0]\n",
    "        pixelsize = meta.Pixelsize_micron.values[0]\n",
    "        timeinterval = meta.Timeinterval_min.values[0]\n",
    "        df1[\"Track_ID\"] = df1['Movie_ID'].astype(str) + \"_\"+ df1['Track n'].astype(str)\n",
    "        df1[\"Distance\"] = calculate_distance(df1)\n",
    "        df1[\"Velocity\"] = calculate_velocity(df1)\n",
    "        df = df.append(df1, ignore_index=True)\n",
    "df = calculate_centered(df)\n",
    "\n",
    "## Save the whole table\n",
    "df.to_excel(save_directory +\"\\Results_all.xlsx\")"
   ]
  },
  {
   "cell_type": "markdown",
   "id": "03504cdd",
   "metadata": {},
   "source": [
    "### Summary table"
   ]
  },
  {
   "cell_type": "code",
   "execution_count": null,
   "id": "32849758",
   "metadata": {
    "scrolled": true
   },
   "outputs": [],
   "source": [
    "df_summary = make_summary_df(df)\n",
    "df_summary.head()"
   ]
  },
  {
   "cell_type": "code",
   "execution_count": null,
   "id": "de0a5b59",
   "metadata": {},
   "outputs": [],
   "source": [
    "# Save the summary\n",
    "df_summary.to_excel(save_directory +\"\\Summary_table.xlsx\")"
   ]
  },
  {
   "cell_type": "markdown",
   "id": "4b345db6",
   "metadata": {},
   "source": [
    "### Graphical representation "
   ]
  },
  {
   "cell_type": "code",
   "execution_count": null,
   "id": "855439f0",
   "metadata": {
    "scrolled": true
   },
   "outputs": [],
   "source": [
    "plot_general(df_summary, save_directory=save_directory, save=True)"
   ]
  },
  {
   "cell_type": "markdown",
   "id": "6b878111",
   "metadata": {},
   "source": [
    "#### Centered coordinates"
   ]
  },
  {
   "cell_type": "code",
   "execution_count": null,
   "id": "6982ad8e",
   "metadata": {},
   "outputs": [],
   "source": [
    "sns.relplot(x=df.X_centered, y=df.Y_centered, hue=df.Track_ID, data=df, kind=\"line\", sort=False, ci=None, palette=\"viridis\", col=df.Phenotype)\n",
    "plt.savefig(save_directory + \"\\\\Centered_graphs.svg\", dpi=300)"
   ]
  },
  {
   "cell_type": "code",
   "execution_count": null,
   "id": "1dd6018f",
   "metadata": {},
   "outputs": [],
   "source": [
    "sns.lineplot(x=df.X_centered, y=df.Y_centered, hue=df.Phenotype, data=df, sort=False, ci=None, units=df.Track_ID, estimator=None)"
   ]
  },
  {
   "cell_type": "markdown",
   "id": "6458aa1e",
   "metadata": {},
   "source": [
    "#### Plotting migration distance over time"
   ]
  },
  {
   "cell_type": "code",
   "execution_count": null,
   "id": "38e3c60a",
   "metadata": {},
   "outputs": [],
   "source": [
    "#Calculation cumulative distance over time\n",
    "df[\"Cumulative_distance\"] = 0\n",
    "\n",
    "for i in df.Track_ID.unique():\n",
    "    for x in df[df.Track_ID == i].index:\n",
    "        if x == df[df.Track_ID == i].index.min():\n",
    "            #print(x, \"is smallest\")\n",
    "            df.iloc[x, -1] = 0\n",
    "        else:\n",
    "            df.iloc[x, -1] = (df.iloc[x, 4] + df.iloc[x-1, -1])"
   ]
  },
  {
   "cell_type": "code",
   "execution_count": null,
   "id": "1b4bedcd",
   "metadata": {},
   "outputs": [],
   "source": [
    "sns.relplot(x=df[\"Slice n\"]*df.Timeinterval_min, y=df.Cumulative_distance, data=df, hue=df.Track_ID, kind=\"line\", col=df.Phenotype) #\n",
    "plt.xlabel(\"Time (min)\")\n",
    "plt.ylabel(\"Cumulative_Distance (um)\")"
   ]
  }
 ],
 "metadata": {
  "kernelspec": {
   "display_name": "cellprofiler-kernel",
   "language": "python",
   "name": "cellprofiler-kernel"
  },
  "language_info": {
   "codemirror_mode": {
    "name": "ipython",
    "version": 3
   },
   "file_extension": ".py",
   "mimetype": "text/x-python",
   "name": "python",
   "nbconvert_exporter": "python",
   "pygments_lexer": "ipython3",
   "version": "3.8.12"
  }
 },
 "nbformat": 4,
 "nbformat_minor": 5
}
